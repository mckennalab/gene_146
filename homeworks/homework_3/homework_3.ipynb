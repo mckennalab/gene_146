{
 "cells": [
  {
   "cell_type": "markdown",
   "metadata": {},
   "source": [
    "# Homework #3\n",
    "\n",
    "Following the write-up, answer a few questions about the genome assembly process in the boxes below, before we analyze our genome assembly. You'll turn in just this assignment notebook for a grade.\n",
    "\n",
    "***Turn in the executable version (ending in .py) with your answers in the boxes below***. After the assignment is due, we'll score Q1 - Q5 and Q7 by hand; Q6 will be graded automatically now."
   ]
  },
  {
   "cell_type": "markdown",
   "metadata": {},
   "source": [
    "#### Q1: FastQC results - 1 point\n",
    "\n",
    "Find the fastqc output (it will look something like _FastQC on collection 1: Webpage_, click through until you can see the HTML with the eye icon).\n",
    "Take a look at the quality score distribution (lots of boxplots in single plot with red, yellow, and green section). For the forward read, \n",
    "after about base 30 the quality score of individual bases tends in which direction? Why?"
   ]
  },
  {
   "cell_type": "raw",
   "metadata": {},
   "source": [
    "answer here"
   ]
  },
  {
   "cell_type": "markdown",
   "metadata": {},
   "source": [
    "#### Q2: N50 vs N75 - 1 point\n",
    "\n",
    "Based on the N50 definition in the associated write-up, define what the N75 score is and how it would be calculated\n"
   ]
  },
  {
   "cell_type": "raw",
   "metadata": {},
   "source": [
    "answer here"
   ]
  },
  {
   "cell_type": "markdown",
   "metadata": {},
   "source": [
    "#### Q3: N50 and N75 calculations - 1 points\n",
    "\n",
    "Compute N50 and N75 for the nine contigs with the following lengths: [20, 20, 30, 30, 60, 60, 80, 100, 200]. "
   ]
  },
  {
   "cell_type": "raw",
   "metadata": {},
   "source": [
    "answer here"
   ]
  },
  {
   "cell_type": "markdown",
   "metadata": {},
   "source": [
    "#### Q4: NGA50 of misassembly - 1 point\n",
    "\n",
    "If the contig in our dataset of length 100 had a misassembly breakpoint in the middle of it, what would be the value of NGA50?"
   ]
  },
  {
   "cell_type": "raw",
   "metadata": {},
   "source": [
    "answer here"
   ]
  },
  {
   "cell_type": "markdown",
   "metadata": {},
   "source": [
    "#### Q5: Scaffolding from contigs - 2 points\n",
    "\n",
    "Based on the definition of scaffolds, what information could we use to construct scaffolds from contigs? Justify your answer\n"
   ]
  },
  {
   "cell_type": "raw",
   "metadata": {},
   "source": [
    "answer here"
   ]
  },
  {
   "cell_type": "markdown",
   "metadata": {},
   "source": [
    "## Complete the cells below when your Galaxy genome is complete"
   ]
  },
  {
   "cell_type": "markdown",
   "metadata": {},
   "source": [
    "#### Q6: Calculate N50 from your genome assembly - 2 points\n",
    "\n",
    "Download the contig assembly sequence from Galaxy. Here we're going to write a Python function to calculate the N50 from your genome. You'll need to take a fasta file, read it in line-by-line, break contigs at the contig names (lines that start with '>'), and count up their sizes. Then, like above, you'll want to find the N50 genome size. For homework. please turn in a function named _calculate_n50_ that returns this value for any FASTA formated genome assembly file:"
   ]
  },
  {
   "cell_type": "code",
   "execution_count": 1,
   "metadata": {},
   "outputs": [],
   "source": [
    "def calculate_n50(file_path):\n",
    "    return n50 # fix me!"
   ]
  },
  {
   "cell_type": "markdown",
   "metadata": {},
   "source": [
    "#### Q7: Now compare against K= 25, 55, and 85 - 2 points\n",
    "\n",
    "As we talked about in class, the chosen k-mer size can affect how the genome is constructed, with trade-offs for sensitivity and specificity. We've included 3 different assemblies in the homework folder for K = 25,55,85. In the same homework directory, there will be the following files:\n",
    "\n",
    "- k_equals_25_55_85_runs/k_25/contigs_25.fasta\n",
    "- k_equals_25_55_85_runs/k_55/contigs_55.fasta\n",
    "- k_equals_25_55_85_runs/k_85/contigs_85.fasta\n",
    "\n",
    "What are the N50s of each? \n",
    "\n",
    "Which k-mer value is probably closest to the choice SPAdes made for your assembly when you used the 'auto' option?\n"
   ]
  },
  {
   "cell_type": "raw",
   "metadata": {},
   "source": [
    "both answers here"
   ]
  }
 ],
 "metadata": {
  "kernelspec": {
   "display_name": "Python 3 (ipykernel)",
   "language": "python",
   "name": "python3"
  },
  "language_info": {
   "codemirror_mode": {
    "name": "ipython",
    "version": 3
   },
   "file_extension": ".py",
   "mimetype": "text/x-python",
   "name": "python",
   "nbconvert_exporter": "python",
   "pygments_lexer": "ipython3",
   "version": "3.10.14"
  }
 },
 "nbformat": 4,
 "nbformat_minor": 4
}
