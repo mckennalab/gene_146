{
 "cells": [
  {
   "cell_type": "markdown",
   "metadata": {},
   "source": [
    "## QBS146/Gene146 Assignment 1 - 2023_04_04\n",
    "\n",
    "The goal of this assignment is to:\n",
    "\n",
    " 1. Get Jupyter notebooks up and running, and work through an example\n",
    " 2. Learn how to use basic python command to manipulate strings\n",
    " 3. Try making a basic implementation of the kmer-counting routine we talked about in class\n",
    " "
   ]
  },
  {
   "cell_type": "markdown",
   "metadata": {},
   "source": [
    "### Python help\n",
    "\n",
    "We highlighted some resources for learning more Python. To add to those, here are some more great resources to get you going. Also reach out to the TAs or me if you're struggling and we can work something out:\n",
    "\n",
    "- [A really nice introduction to Python and Jupyter](https://gist.github.com/kenjyco/69eeb503125035f21a9d)\n",
    "- [Github collection of learning Python notebooks](https://github.com/jerry-git/learn-python3)\n",
    "- [Jupyter notebooks trainings from Jupyter](https://jupyter.org/try)"
   ]
  },
  {
   "cell_type": "markdown",
   "metadata": {},
   "source": [
    "## Assignment \n",
    "\n",
    "Each code block below will have a function we're asking you to create. The function will be documented with what we expect it to do. ***Do not rename the function***, as we have test functions that will automatically grade the function. You can create any number of other function you call in support of this function, but the parameters and name of the requested function must stay the same. \n",
    "\n",
    "\n",
    "#### For example here is a fake assignment problem:\n"
   ]
  },
  {
   "cell_type": "code",
   "execution_count": 1,
   "metadata": {},
   "outputs": [],
   "source": [
    "# 0 points: create a function to determine if the input sequence contains the substring 'AAAA'\n",
    "def contains_four_As(input_sequence):\n",
    "    '''\n",
    "    This function returns true if the input sequence contains the subsequence 'AAAA'\n",
    "    '''\n",
    "    \n",
    "    return False # this is obviously broken"
   ]
  },
  {
   "cell_type": "markdown",
   "metadata": {},
   "source": [
    "You might correct this to the following function:"
   ]
  },
  {
   "cell_type": "code",
   "execution_count": 2,
   "metadata": {},
   "outputs": [],
   "source": [
    "def contains_four_As(input_sequence):\n",
    "    '''\n",
    "    This function returns true if the input sequence contains the subsequence 'AAAA'\n",
    "    '''\n",
    "    return('AAAA' in input_sequence)"
   ]
  },
  {
   "cell_type": "markdown",
   "metadata": {},
   "source": [
    "And we might test it like so:"
   ]
  },
  {
   "cell_type": "code",
   "execution_count": 3,
   "metadata": {},
   "outputs": [
    {
     "name": "stdout",
     "output_type": "stream",
     "text": [
      "2\n"
     ]
    }
   ],
   "source": [
    "def our_grading_function_for_contains_four_As():\n",
    "    score = 0\n",
    "    if contains_four_As('AAAA'):\n",
    "        score += 1\n",
    "    if not contains_four_As('GGGG'):\n",
    "        score += 1\n",
    "    return(score)\n",
    "\n",
    "print(our_grading_function_for_contains_four_As())"
   ]
  },
  {
   "cell_type": "markdown",
   "metadata": {},
   "source": [
    "## Real homework problems below here\n",
    "\n"
   ]
  },
  {
   "cell_type": "code",
   "execution_count": 4,
   "metadata": {},
   "outputs": [],
   "source": [
    "# 2 points: create a function that add three numbers together and returns the result\n",
    "def add_three_numbers(number_a, number_b, number_c):\n",
    "    return(0) # fix to return the sum of the passed-in numbers "
   ]
  },
  {
   "cell_type": "code",
   "execution_count": 5,
   "metadata": {},
   "outputs": [],
   "source": [
    "# 2 points: create a function called 'smallest_in_list' that takes a list as an input, and returns the smallest number within the list. If there is no smallest number return the number 0. \n",
    "def smallest_in_list(input_list):\n",
    "    return(0) # only valid in select cases"
   ]
  },
  {
   "cell_type": "code",
   "execution_count": 6,
   "metadata": {},
   "outputs": [],
   "source": [
    "# 6 points: create a function called 'find_kmers_occurrence' that takes a FASTA formatted sequence, a kmer size, and a minimum count, \n",
    "#           and returns a python dictionary with all kmers in the sequence that appear more than minimum_count times as the dictionary key\n",
    "#           and their count as the value in the dictionary. Your function should not return kmers with ambiguous/degenerate bases.\n",
    "def find_kmers_occurrence(sequence, k, minimum_count):\n",
    "    \"\"\"\n",
    "    Find all k-mers that occur greater than x times within a supplied nucleotide sequence.\n",
    "\n",
    "    See the fasta reference for ambiguous nucleotide codes: https://en.wikipedia.org/wiki/FASTA_format\n",
    "    \n",
    "    Args:\n",
    "    sequence (str): A string containing a sequence of nucleotides.\n",
    "    k (int): The length of the k-mer.\n",
    "    x (int): The minimum occurrence threshold.\n",
    "\n",
    "    Returns:\n",
    "    dict: A dictionary containing k-mers as keys and their occurrences as values.\n",
    "    \"\"\"\n",
    "    \n",
    "    empty_dictionary = {}\n",
    "    \n",
    "    return(empty_dictionary) # not quite done\n",
    "    "
   ]
  },
  {
   "cell_type": "code",
   "execution_count": null,
   "metadata": {},
   "outputs": [],
   "source": []
  }
 ],
 "metadata": {
  "kernelspec": {
   "display_name": "Python 3",
   "language": "python",
   "name": "python3"
  },
  "language_info": {
   "codemirror_mode": {
    "name": "ipython",
    "version": 3
   },
   "file_extension": ".py",
   "mimetype": "text/x-python",
   "name": "python",
   "nbconvert_exporter": "python",
   "pygments_lexer": "ipython3",
   "version": "3.6.10"
  }
 },
 "nbformat": 4,
 "nbformat_minor": 4
}
