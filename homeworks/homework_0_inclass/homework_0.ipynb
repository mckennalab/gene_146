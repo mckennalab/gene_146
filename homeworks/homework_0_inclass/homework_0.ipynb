{
 "cells": [
  {
   "cell_type": "code",
   "execution_count": 1,
   "id": "5dee5855-9a9e-4c8d-9275-855cfb6400d1",
   "metadata": {},
   "outputs": [
    {
     "name": "stdout",
     "output_type": "stream",
     "text": [
      "All possible 3-mers:\n",
      "['AAA', 'AAC', 'AAG', 'AAT', 'ACA', 'ACC', 'ACG', 'ACT', 'AGA', 'AGC', 'AGG', 'AGT', 'ATA', 'ATC', 'ATG', 'ATT', 'CAA', 'CAC', 'CAG', 'CAT', 'CCA', 'CCC', 'CCG', 'CCT', 'CGA', 'CGC', 'CGG', 'CGT', 'CTA', 'CTC', 'CTG', 'CTT', 'GAA', 'GAC', 'GAG', 'GAT', 'GCA', 'GCC', 'GCG', 'GCT', 'GGA', 'GGC', 'GGG', 'GGT', 'GTA', 'GTC', 'GTG', 'GTT', 'TAA', 'TAC', 'TAG', 'TAT', 'TCA', 'TCC', 'TCG', 'TCT', 'TGA', 'TGC', 'TGG', 'TGT', 'TTA', 'TTC', 'TTG', 'TTT']\n"
     ]
    }
   ],
   "source": [
    "from itertools import product\n",
    "\n",
    "def generate_kmers(k):\n",
    "    \"\"\"Generate all possible k-mers of size k from the nucleotides A, C, G, and T.\"\"\"\n",
    "    nucleotides = 'ACGT'\n",
    "    kmers = [''.join(p) for p in product(nucleotides, repeat=k)]\n",
    "    return kmers\n",
    "\n",
    "# Example usage\n",
    "k = 3  # Change this to generate k-mers of a different size\n",
    "kmers = generate_kmers(k)\n",
    "print(f\"All possible {k}-mers:\")\n",
    "print(kmers)"
   ]
  },
  {
   "cell_type": "code",
   "execution_count": null,
   "id": "f067ef18-368b-4e0a-b05b-fa1162c0510e",
   "metadata": {},
   "outputs": [],
   "source": []
  }
 ],
 "metadata": {
  "kernelspec": {
   "display_name": "Python 3 (ipykernel)",
   "language": "python",
   "name": "python3"
  },
  "language_info": {
   "codemirror_mode": {
    "name": "ipython",
    "version": 3
   },
   "file_extension": ".py",
   "mimetype": "text/x-python",
   "name": "python",
   "nbconvert_exporter": "python",
   "pygments_lexer": "ipython3",
   "version": "3.10.12"
  }
 },
 "nbformat": 4,
 "nbformat_minor": 5
}
