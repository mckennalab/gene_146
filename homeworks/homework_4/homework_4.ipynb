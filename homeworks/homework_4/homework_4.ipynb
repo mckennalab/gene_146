{
 "cells": [
  {
   "cell_type": "markdown",
   "metadata": {},
   "source": [
    "# Homework 4 - genome read mapping\n",
    "\n",
    "In this homework assignment we'll try out some of the sequence alignment strategies we talked about in class. First we'll code the brute force search approach. Next we'll implement a trie-based sequencing read alignment tool using basic Python functions. The objective of this tool is to align short DNA sequencing reads to a given reference genome. To accomplish this, you will first construct a trie from the reads using a 'trie', make up of dictionaries as the primary data structure. This trie will hopefully facilitate more efficient searching and matching of the input reads.\n",
    "\n"
   ]
  },
  {
   "cell_type": "markdown",
   "metadata": {},
   "source": [
    "### Load up the genome\n",
    "\n",
    "We will be working with the Lambda phage genome, which is approximately 48,000 bases long. It is probably the most sequenced genome in the world since it is used for machine calibration on all Illumina machines. If you accidentally mess up the genome sequence later on, you can rerun this cell."
   ]
  },
  {
   "cell_type": "code",
   "execution_count": null,
   "metadata": {},
   "outputs": [],
   "source": [
    "import time # we'll use this for some timing example below\n",
    "\n",
    "fasta = open(\"lambda.fasta\")\n",
    "lambda_header = fasta.readline()\n",
    "lambda_genome = \"\"\n",
    "for line in fasta:\n",
    "    lambda_genome += line.strip()\n"
   ]
  },
  {
   "cell_type": "markdown",
   "metadata": {},
   "source": [
    "### Brute force search - 3 points\n",
    "\n",
    "Lets start with the simplier approach we talked about in class. Write a python function that takes a string, **genome**, that we will search in, and **read**, a pretend sequencing read we'll be looking for. Return **a list with all positions** within the genome where we can find an exact match for this sequencing read. If there are no matches, return an empty list. Positions should be zero-based (the first position in the genome is position 0, then 1, etc). "
   ]
  },
  {
   "cell_type": "code",
   "execution_count": null,
   "metadata": {},
   "outputs": [],
   "source": [
    "# a reminder: don't change the name or parameters\n",
    "def find_brute_force_read_mapping_positions(genome, read):\n",
    "    \"\"\"\n",
    "    Finds all occurrences of a given read string within a genome string using a brute-force approach.\n",
    "\n",
    "    Parameters:\n",
    "    genome (str): A string representing the genome to search within.\n",
    "    read (str): A string representing the read to search for.\n",
    "\n",
    "    Returns:\n",
    "    A list of integers representing the starting positions of all occurrences of the read string within the genome string.\n",
    "    The list will be empty if there are no hits.\n",
    "    \"\"\"\n",
    "    locations = []\n",
    "    # your code here\n",
    "    return locations\n"
   ]
  },
  {
   "cell_type": "markdown",
   "metadata": {},
   "source": [
    "#### Try timing testing your code\n",
    "\n",
    "Below you can run a simple test of your code using the lambda genome you loaded above. It runs your lookup code for 1000 iterations (you can change that) looking for a read we know is in the genome. It then splits out some timing information about the approximate time it takes to execute. This is just an exercise to see play around with timing a function."
   ]
  },
  {
   "cell_type": "code",
   "execution_count": null,
   "metadata": {},
   "outputs": [],
   "source": [
    "def test_BF_read_mapping_time(genome, read):\n",
    "    start_time = time.time()\n",
    "    \n",
    "    # lets try looking for this read 1000 times to see how long it takes\n",
    "    for i in range(0,1000):\n",
    "        locations = find_brute_force_read_mapping_positions(genome, read)\n",
    "    end_time = time.time()\n",
    "    \n",
    "    print('Total read search time:', end_time - start_time, 'seconds')\n",
    "\n",
    "fake_read_but_real_sequence = \"CAGACGCTGCTGCGTGTGGATGAGGCCATC\"\n",
    "\n",
    "test_BF_read_mapping_time(lambda_genome,fake_read_but_real_sequence)\n"
   ]
  },
  {
   "cell_type": "markdown",
   "metadata": {},
   "source": [
    "### Trie implementation - 3 points\n",
    "\n",
    "Now that we have a function to find read-mapping positions using a brute force approach, lets try something that's hopefully a little faster. Let's implement the trie structure we saw in class on Tuesday. You should use a nested dictionary approach. A nested dictionary is a dictionary where the value is another dictionary. This means you'll create a trie using dictionaries where the nucleotide keys looks-up the next layer of the graph (which is itself a dictionary), making edges between letters in your sequence. A picture will hopefully be helpful.\n",
    "\n",
    "Let's say we've added the following sequences:\n",
    "\n",
    "[AAA,\n",
    "AAC,\n",
    "AAG,\n",
    "AAT,\n",
    "AC,\n",
    "AG,\n",
    "AT,\n",
    "C,\n",
    "G,\n",
    "TA,\n",
    "TC,\n",
    "TG,\n",
    "TT]\n",
    "\n",
    "You'd see something like the trie on the left:"
   ]
  },
  {
   "attachments": {
    "51d0db0a-abc1-4ef9-aba0-4e6cf6f94148.png": {
     "image/png": "[encoded data removed]"
    }
   },
   "cell_type": "markdown",
   "metadata": {},
   "source": [
    "![trie_graph_homework_4.png](attachment:51d0db0a-abc1-4ef9-aba0-4e6cf6f94148.png)"
   ]
  },
  {
   "cell_type": "markdown",
   "metadata": {},
   "source": [
    "You'll first need to make a function that takes in **read sequences** and creates the trie. We'll talk about using the reference instead to build trees in the second lecture, but here **we're going to use the reads to create the trie**. We'd recommend you start with an empty dictionary, taking turns with each read to add it to the tree, and then return the resulting dictionary. \n",
    "\n",
    "If you searched for the sequence **AAT** you can see the resulting process on the right above, where we traverse the dictionary of dictionaries looking for a match in the reads for this section of the genome.\n",
    "\n",
    "One thing we're leaving out of the picture is handling reads where one read is a subset (substring) of another. For full credit you should handle these situations too. \n",
    "\n",
    "\n",
    "#### Example results\n",
    "\n",
    "if you called you version of build_trie using the example sequences above:\n",
    "```\n",
    "\n",
    "my_new_trie = build_trie(['AAA','AAC','AAG','AAT','AC','AG','AT','C','G','TA','TC','TG','TT'])\n",
    "```\n",
    "\n",
    "You should be able to 'index' (use a key to find an entry) into the resulting tree and not cause an error:\n",
    "```\n",
    "my_new_trie['A']['A']['A']\n",
    "```\n",
    "\n",
    "We'll use this indexing approach to find read alignment positinos in the genome later in the code\n",
    "\n",
    "\n",
    "#### Fill in the build_trie function below:"
   ]
  },
  {
   "cell_type": "code",
   "execution_count": null,
   "metadata": {},
   "outputs": [],
   "source": [
    "def build_trie(sequences):\n",
    "    \"\"\"\n",
    "    Constructs a trie data structure from a list of DNA sequences.\n",
    "\n",
    "    Parameters:\n",
    "    sequences (List[str]): A list of DNA sequences represented as strings.\n",
    "\n",
    "    Returns:\n",
    "    A dictionary representing the root of the constructed trie data structure.\n",
    "    Each key in the dictionary corresponds to a nucleotide in the DNA sequence,\n",
    "    and the value associated with each key is a dictionary representing the next level\n",
    "    of the trie. For full credit the '$' key is used to indicate the end of a sequence.\n",
    "    \"\"\"\n",
    "    trie = {}\n",
    "    # your code here\n",
    "    return trie\n"
   ]
  },
  {
   "cell_type": "markdown",
   "metadata": {},
   "source": [
    "### get_all_read_positions - 3 points\n",
    "\n",
    "Now lets put this all together. We're going to write a function that takes the trie you've created above, and marches down the genome, position by position, finding alignment locations for each read. This function should output a dictionary, with keys set to any read you find in the reference, and the dictionary value as a list with the positions for each alignment 'hit'. \n",
    "\n",
    "```\n",
    "reads = ['banana','pan','and','nab','antenna','bandana','ananas','nana']\n",
    "genome = 'panamabananas'\n",
    "trie = build_trie(reads)\n",
    "print(get_all_read_positions(trie,genome))\n",
    "```\n",
    "\n",
    "Should return something like this (from the results in class):\n",
    "```\n",
    "{'pan': [0], 'banana': [6], 'ananas': [7], 'nana': [8]}\n",
    "```"
   ]
  },
  {
   "cell_type": "code",
   "execution_count": null,
   "metadata": {},
   "outputs": [],
   "source": [
    "\n",
    "def get_all_read_positions(trie, genome):\n",
    "    read_positions = {}\n",
    "    # your code here\n",
    "    return(read_positions)\n"
   ]
  }
 ],
 "metadata": {
  "kernelspec": {
   "display_name": "Python 3",
   "language": "python",
   "name": "python3"
  },
  "language_info": {
   "codemirror_mode": {
    "name": "ipython",
    "version": 3
   },
   "file_extension": ".py",
   "mimetype": "text/x-python",
   "name": "python",
   "nbconvert_exporter": "python",
   "pygments_lexer": "ipython3",
   "version": "3.6.10"
  }
 },
 "nbformat": 4,
 "nbformat_minor": 4
}
